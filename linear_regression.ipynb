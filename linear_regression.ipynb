{
  "nbformat": 4,
  "nbformat_minor": 0,
  "metadata": {
    "colab": {
      "name": "linear regression.ipynb",
      "provenance": [],
      "authorship_tag": "ABX9TyOPCtIBc3lMoOHJWrL6nm4N",
      "include_colab_link": true
    },
    "kernelspec": {
      "name": "python3",
      "display_name": "Python 3"
    }
  },
  "cells": [
    {
      "cell_type": "markdown",
      "metadata": {
        "id": "view-in-github",
        "colab_type": "text"
      },
      "source": [
        "<a href=\"https://colab.research.google.com/github/Yerra-Ajay/linear-regression/blob/master/linear_regression.ipynb\" target=\"_parent\"><img src=\"https://colab.research.google.com/assets/colab-badge.svg\" alt=\"Open In Colab\"/></a>"
      ]
    },
    {
      "cell_type": "code",
      "metadata": {
        "id": "H63jh2F1knEH",
        "colab_type": "code",
        "colab": {
          "base_uri": "https://localhost:8080/",
          "height": 450
        },
        "outputId": "c91cdc4e-3f43-46ae-fdcc-a539988a893c"
      },
      "source": [
        "import numpy as np\n",
        "import matplotlib.pyplot as plt\n",
        "import pandas as pd\n",
        "\n",
        "# Importing the dataset from local drive\n",
        "#from google.colab import files\n",
        "#uploaded=files.upload()\n",
        "#import io\n",
        "#dataset = pd.read_csv(io.BytesIO(uploaded['50_Startups.csv']))\n",
        "\n",
        "#importing the dataset from Github\n",
        "\n",
        "url='https://raw.githubusercontent.com/Yerra-Ajay/linear-regression/master/50_Startups.csv'\n",
        "dataset = pd.read_csv(url)\n",
        "\n",
        "X = dataset.iloc[:, :-1].values\n",
        "y = dataset.iloc[:, 4].values\n",
        "\n",
        "# Encoding categorical data\n",
        "# Encoding the Independent Variable\n",
        "from sklearn.preprocessing import LabelEncoder, OneHotEncoder\n",
        "labelencoder_X = LabelEncoder()\n",
        "X[:, 3] = labelencoder_X.fit_transform(X[:, 3])\n",
        "#Creating dummy variables to avoid ordinal\n",
        "\n",
        "from sklearn.compose import ColumnTransformer\n",
        "ct=ColumnTransformer([(\"Name_Of_Your_Step\", OneHotEncoder(),[3])], remainder=\"passthrough\")\n",
        "X = ct.fit_transform(X)\n",
        "\n",
        "\n",
        "# Avoiding the dummt variable trao\n",
        "X=X[:,1:]\n",
        "\n",
        "# Splitting the dataset into the Training set and Test set\n",
        "from sklearn.model_selection import train_test_split\n",
        "X_train, X_test, y_train, y_test = train_test_split(X, y, test_size = 0.2, random_state = 0)\n",
        "\n",
        "#Fitting Multiple Linear Regression to Training set\n",
        "from sklearn.linear_model import LinearRegression\n",
        "regressor = LinearRegression()\n",
        "regressor.fit(X_train,y_train)\n",
        "\n",
        "#Predicting the test set results\n",
        "y_pred = regressor.predict(X_test)\n",
        "\n",
        "print(y_pred)\n",
        "print(y_test)\n",
        "\n",
        "#Building the optimaL model using Backward Elimination\n",
        "# Great team of independent variable which is highly statistically significant\n",
        "import statsmodels.regression.linear_model as sm\n",
        "#adding columns of 1s\n",
        "X = np.append(arr = np.ones((50,1)).astype(int), values = X , axis=1)\n",
        "\n",
        "X_opt = np.array(X[:, [0, 1, 2, 3, 4, 5]], dtype=float)\n",
        "# regressor from ols class\n",
        "regressor_OLS = sm.OLS(endog = y, exog = X_opt).fit()\n",
        "regressor_OLS.summary()\n",
        "# Removing var with highest p values ie 2\n",
        "X_opt = np.array(X[:,[0,1,3,4,5]], dtype=float)\n",
        "# regressor from ols classufunc 'isfinite' not supported for the input types, and the inputs could not be safely coerced to any supported types according to the casting rule ''safe''\n",
        "regressor_OLS = sm.OLS(endog = y, exog = X_opt).fit()\n",
        "regressor_OLS.summary()\n",
        "\n",
        "# Removing var with highest p values ie 4\n",
        "X_opt = np.array(X[:,[0,3,4,5]], dtype=float)\n",
        "# regressor from ols class\n",
        "regressor_OLS = sm.OLS(endog = y, exog = X_opt).fit()\n",
        "regressor_OLS.summary()\n",
        "\n",
        "# Removing var with highest p values ie 5\n",
        "X_opt = np.array(X[:,[0,3,5]], dtype=float)\n",
        "# regressor from ols class\n",
        "regressor_OLS = sm.OLS(endog = y, exog = X_opt).fit()\n",
        "regressor_OLS.summary()\n",
        "\n",
        "# Removing var with highest p values ie \n",
        "X_opt = np.array(X[:,[0,3]], dtype=float)\n",
        "# regressor from ols class\n",
        "regressor_OLS = sm.OLS(endog = y, exog = X_opt).fit()\n",
        "regressor_OLS.summary()\n",
        "\n",
        "print(y_pred)\n",
        "print(y_test)\n",
        "plt.plot(y_pred,y_test)"
      ],
      "execution_count": 11,
      "outputs": [
        {
          "output_type": "stream",
          "text": [
            "[103015.20159796 132582.27760816 132447.73845175  71976.09851259\n",
            " 178537.48221054 116161.24230163  67851.69209676  98791.73374688\n",
            " 113969.43533012 167921.0656955 ]\n",
            "[103282.38 144259.4  146121.95  77798.83 191050.39 105008.31  81229.06\n",
            "  97483.56 110352.25 166187.94]\n",
            "[103015.20159796 132582.27760816 132447.73845175  71976.09851259\n",
            " 178537.48221054 116161.24230163  67851.69209676  98791.73374688\n",
            " 113969.43533012 167921.0656955 ]\n",
            "[103282.38 144259.4  146121.95  77798.83 191050.39 105008.31  81229.06\n",
            "  97483.56 110352.25 166187.94]\n"
          ],
          "name": "stdout"
        },
        {
          "output_type": "execute_result",
          "data": {
            "text/plain": [
              "[<matplotlib.lines.Line2D at 0x7fa0e0a80358>]"
            ]
          },
          "metadata": {
            "tags": []
          },
          "execution_count": 11
        },
        {
          "output_type": "display_data",
          "data": {
            "image/png": "[encoded data removed]",
            "text/plain": [
              "<Figure size 432x288 with 1 Axes>"
            ]
          },
          "metadata": {
            "tags": [],
            "needs_background": "light"
          }
        }
      ]
    }
  ]
}